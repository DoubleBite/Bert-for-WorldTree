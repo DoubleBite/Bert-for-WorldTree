{
 "cells": [
  {
   "cell_type": "code",
   "execution_count": 1,
   "metadata": {},
   "outputs": [],
   "source": [
    "%load_ext autoreload\n",
    "%autoreload 2\n",
    "%load_ext autotime"
   ]
  },
  {
   "cell_type": "code",
   "execution_count": 2,
   "metadata": {},
   "outputs": [
    {
     "name": "stdout",
     "output_type": "stream",
     "text": [
      "time: 3.7 s\n"
     ]
    }
   ],
   "source": [
    "import json\n",
    "import pandas as pd\n",
    "from tqdm.notebook import tqdm\n",
    "\n",
    "from libs.dataset_reader.utils import parse_raw_question, answser_to_index\n",
    "from libs.knowledge_base.worldtree_KB import WorldTreeKB\n",
    "from libs.knowledge_base.tablestore import load_single_table, load_tables_from_dir\n",
    "from libs.knowledge_base.utils import remove_punctuations, preprocess, WorldTreeLemmatizer"
   ]
  },
  {
   "cell_type": "code",
   "execution_count": 3,
   "metadata": {},
   "outputs": [
    {
     "name": "stdout",
     "output_type": "stream",
     "text": [
      "Train: 2207 questions.\n",
      "time: 388 ms\n"
     ]
    }
   ],
   "source": [
    "# Load the questions\n",
    "\n",
    "file_path = \"data/questions/questions.train.tsv\"\n",
    "\n",
    "df_train = pd.read_csv(file_path, delimiter=\"\\t\")\n",
    "print(f\"Train: {len(df_train)} questions.\")\n",
    "\n",
    "train_questions = []\n",
    "for _, row in df_train.iterrows():\n",
    "    qid = row[\"QuestionID\"]\n",
    "    raw_question = row[\"question\"]\n",
    "    question, choices = parse_raw_question(\n",
    "        raw_question)\n",
    "    answer = row[\"AnswerKey\"]\n",
    "    answer_idx = answser_to_index(answer)\n",
    "    train_questions.append({\n",
    "        \"id\": qid,\n",
    "        \"question\": question,\n",
    "        \"choices\": choices,\n",
    "        \"answer\": answer_idx\n",
    "    })"
   ]
  },
  {
   "cell_type": "code",
   "execution_count": 4,
   "metadata": {},
   "outputs": [
    {
     "name": "stdout",
     "output_type": "stream",
     "text": [
      "time: 1.16 s\n"
     ]
    }
   ],
   "source": [
    "# Load the tables\n",
    "\n",
    "tables_dir = \"data/tablestore/v2.1/\"\n",
    "\n",
    "facts = load_tables_from_dir(tables_dir)"
   ]
  },
  {
   "cell_type": "code",
   "execution_count": 5,
   "metadata": {},
   "outputs": [
    {
     "name": "stdout",
     "output_type": "stream",
     "text": [
      "time: 26 s\n"
     ]
    }
   ],
   "source": [
    "# Collect the corpus to turn the TFIDF/BM25 parameter\n",
    "\n",
    "corpus = []\n",
    "\n",
    "for fact in facts:\n",
    "    corpus.append(fact[\"fact\"])\n",
    "\n",
    "for question in train_questions:\n",
    "    corpus.append(question[\"question\"])\n",
    "\n",
    "\n",
    "\n",
    "# Load the knowledge base\n",
    "lemmatizer = WorldTreeLemmatizer(\"others/lemmatization-en.txt\")\n",
    "KB = WorldTreeKB(lemmatizer=lemmatizer)\n",
    "KB.fit_to_corpus(corpus)\n",
    "KB.set_documents(facts)\n"
   ]
  },
  {
   "cell_type": "code",
   "execution_count": 6,
   "metadata": {},
   "outputs": [
    {
     "data": {
      "text/plain": [
       "[{'id': '0d3a-8739-9f42-5e1c',\n",
       "  'table': 'KINDOF',\n",
       "  'fact': 'a tree is a kind of plant',\n",
       "  'processed_fact': 'tree kind plant',\n",
       "  'relevance_score': 0.7652165901641027},\n",
       " {'id': 'e818-cf4a-2d3a-c8c6',\n",
       "  'table': 'KINDOF',\n",
       "  'fact': 'trees are a kind of resource',\n",
       "  'processed_fact': 'tree kind resource',\n",
       "  'relevance_score': 0.7043037663202094},\n",
       " {'id': '0340-14ae-a023-ac50',\n",
       "  'table': 'KINDOF',\n",
       "  'fact': 'a tree is a kind of matter',\n",
       "  'processed_fact': 'tree kind matt',\n",
       "  'relevance_score': 0.6737261327908123}]"
      ]
     },
     "execution_count": 6,
     "metadata": {},
     "output_type": "execute_result"
    },
    {
     "name": "stdout",
     "output_type": "stream",
     "text": [
      "time: 14.7 ms\n"
     ]
    }
   ],
   "source": [
    "KB.query_relevant_facts(\"tree\", 3)"
   ]
  },
  {
   "cell_type": "code",
   "execution_count": 7,
   "metadata": {},
   "outputs": [
    {
     "data": {
      "application/vnd.jupyter.widget-view+json": {
       "model_id": "fbb828d61b9f4b309080e30814f5f94f",
       "version_major": 2,
       "version_minor": 0
      },
      "text/plain": [
       "HBox(children=(FloatProgress(value=0.0, max=2207.0), HTML(value='')))"
      ]
     },
     "metadata": {},
     "output_type": "display_data"
    },
    {
     "name": "stdout",
     "output_type": "stream",
     "text": [
      "\n",
      "time: 11.8 s\n"
     ]
    }
   ],
   "source": [
    "# Prepare the supporting facts for the training data\n",
    "\n",
    "for question in tqdm(train_questions):\n",
    "    \n",
    "    query = question[\"question\"]\n",
    "    top10_results = KB.query_relevant_facts(query, 10)\n",
    "    top10_facts = [res[\"fact\"] +\".\" for res in top10_results] # Make them end with a period.\n",
    "    \n",
    "    question[\"supports\"] = top10_facts\n",
    "    \n",
    "with open(\"train.json\", 'w') as f:\n",
    "    json.dump(train_questions, f, indent=4)"
   ]
  },
  {
   "cell_type": "code",
   "execution_count": 8,
   "metadata": {},
   "outputs": [
    {
     "name": "stdout",
     "output_type": "stream",
     "text": [
      "Train: 496 questions.\n"
     ]
    },
    {
     "data": {
      "application/vnd.jupyter.widget-view+json": {
       "model_id": "bd94e40e3ea448f7a9838692b0ffed45",
       "version_major": 2,
       "version_minor": 0
      },
      "text/plain": [
       "HBox(children=(FloatProgress(value=0.0, max=496.0), HTML(value='')))"
      ]
     },
     "metadata": {},
     "output_type": "display_data"
    },
    {
     "name": "stdout",
     "output_type": "stream",
     "text": [
      "\n",
      "time: 2.76 s\n"
     ]
    }
   ],
   "source": [
    "# Prepare the supporting facts for the dev data\n",
    "\n",
    "file_path = \"data/questions/questions.dev.tsv\"\n",
    "\n",
    "df_dev = pd.read_csv(file_path, delimiter=\"\\t\")\n",
    "print(f\"Train: {len(df_dev)} questions.\")\n",
    "\n",
    "dev_questions = []\n",
    "for _, row in df_dev.iterrows():\n",
    "    qid = row[\"QuestionID\"]\n",
    "    raw_question = row[\"question\"]\n",
    "    question, choices = parse_raw_question(\n",
    "        raw_question)\n",
    "    answer = row[\"AnswerKey\"]\n",
    "    answer_idx = answser_to_index(answer)\n",
    "    dev_questions.append({\n",
    "        \"id\": qid,\n",
    "        \"question\": question,\n",
    "        \"choices\": choices,\n",
    "        \"answer\": answer_idx\n",
    "    })\n",
    "\n",
    "for question in tqdm(dev_questions):\n",
    "    \n",
    "    query = question[\"question\"]\n",
    "    top10_results = KB.query_relevant_facts(query, 10)\n",
    "    top10_facts = [res[\"fact\"] +\".\" for res in top10_results] # Make them end with a period.\n",
    "    \n",
    "    question[\"supports\"] = top10_facts\n",
    "    \n",
    "with open(\"dev.json\", 'w') as f:\n",
    "    json.dump(dev_questions, f, indent=4)"
   ]
  },
  {
   "cell_type": "code",
   "execution_count": 9,
   "metadata": {},
   "outputs": [
    {
     "name": "stdout",
     "output_type": "stream",
     "text": [
      "Test: 1664 questions.\n"
     ]
    },
    {
     "data": {
      "application/vnd.jupyter.widget-view+json": {
       "model_id": "6b5aa981e7964951a401b1cf6c375c34",
       "version_major": 2,
       "version_minor": 0
      },
      "text/plain": [
       "HBox(children=(FloatProgress(value=0.0, max=1664.0), HTML(value='')))"
      ]
     },
     "metadata": {},
     "output_type": "display_data"
    },
    {
     "name": "stdout",
     "output_type": "stream",
     "text": [
      "\n",
      "time: 9.1 s\n"
     ]
    }
   ],
   "source": [
    "# Prepare the supporting facts for the dev data\n",
    "\n",
    "file_path = \"data/questions/questions.test.tsv\"\n",
    "\n",
    "df_test = pd.read_csv(file_path, delimiter=\"\\t\")\n",
    "print(f\"Test: {len(df_test)} questions.\")\n",
    "\n",
    "test_questions = []\n",
    "for _, row in df_test.iterrows():\n",
    "    qid = row[\"QuestionID\"]\n",
    "    raw_question = row[\"question\"]\n",
    "    question, choices = parse_raw_question(\n",
    "        raw_question)\n",
    "    answer = row[\"AnswerKey\"]\n",
    "    answer_idx = answser_to_index(answer)\n",
    "    test_questions.append({\n",
    "        \"id\": qid,\n",
    "        \"question\": question,\n",
    "        \"choices\": choices,\n",
    "        \"answer\": answer_idx\n",
    "    })\n",
    "\n",
    "for question in tqdm(test_questions):\n",
    "    \n",
    "    query = question[\"question\"]\n",
    "    top10_results = KB.query_relevant_facts(query, 10)\n",
    "    top10_facts = [res[\"fact\"] +\".\" for res in top10_results] # Make them end with a period.\n",
    "    \n",
    "    question[\"supports\"] = top10_facts\n",
    "    \n",
    "with open(\"test.json\", 'w') as f:\n",
    "    json.dump(test_questions, f, indent=4)"
   ]
  },
  {
   "cell_type": "code",
   "execution_count": null,
   "metadata": {},
   "outputs": [],
   "source": []
  }
 ],
 "metadata": {
  "kernelspec": {
   "display_name": "Python 3",
   "language": "python",
   "name": "python3"
  },
  "language_info": {
   "codemirror_mode": {
    "name": "ipython",
    "version": 3
   },
   "file_extension": ".py",
   "mimetype": "text/x-python",
   "name": "python",
   "nbconvert_exporter": "python",
   "pygments_lexer": "ipython3",
   "version": "3.7.7"
  }
 },
 "nbformat": 4,
 "nbformat_minor": 4
}
